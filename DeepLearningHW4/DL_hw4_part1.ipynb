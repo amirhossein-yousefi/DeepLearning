{
  "nbformat": 4,
  "nbformat_minor": 0,
  "metadata": {
    "colab": {
      "name": "DL.hw4.part1.ipynb",
      "provenance": []
    },
    "kernelspec": {
      "name": "python3",
      "display_name": "Python 3"
    },
    "accelerator": "GPU"
  },
  "cells": [
    {
      "cell_type": "markdown",
      "metadata": {
        "id": "lnvwqFEinBc5",
        "colab_type": "text"
      },
      "source": [
        "Lets upload data to colab"
      ]
    },
    {
      "cell_type": "code",
      "metadata": {
        "id": "EAUrJ6xenN00",
        "colab_type": "code",
        "outputId": "ff7f1caf-a1c2-4909-9ed7-3717cef58bdb",
        "colab": {
          "base_uri": "https://localhost:8080/",
          "height": 64
        }
      },
      "source": [
        "import random\n",
        "import numpy as np\n",
        "import matplotlib.pyplot as plt\n",
        "import tensorflow as tf\n",
        "import random\n",
        "import matplotlib.cm as cm\n",
        "from IPython.core.display import display, HTML\n",
        "from google.colab import files"
      ],
      "execution_count": 0,
      "outputs": [
        {
          "output_type": "display_data",
          "data": {
            "text/html": [
              "<p style=\"color: red;\">\n",
              "The default version of TensorFlow in Colab will soon switch to TensorFlow 2.x.<br>\n",
              "We recommend you <a href=\"https://www.tensorflow.org/guide/migrate\" target=\"_blank\">upgrade</a> now \n",
              "or ensure your notebook will continue to use TensorFlow 1.x via the <code>%tensorflow_version 1.x</code> magic:\n",
              "<a href=\"https://colab.research.google.com/notebooks/tensorflow_version.ipynb\" target=\"_blank\">more info</a>.</p>\n"
            ],
            "text/plain": [
              "<IPython.core.display.HTML object>"
            ]
          },
          "metadata": {
            "tags": []
          }
        }
      ]
    },
    {
      "cell_type": "code",
      "metadata": {
        "id": "pOke2R29m7mT",
        "colab_type": "code",
        "outputId": "d75e5aac-8e9f-4875-c8cb-2f7a869ae0dc",
        "colab": {
          "resources": {
            "http://localhost:8080/nbextensions/google.colab/files.js": {
              "data": "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",
              "ok": true,
              "headers": [
                [
                  "content-type",
                  "application/javascript"
                ]
              ],
              "status": 200,
              "status_text": "OK"
            }
          },
          "base_uri": "https://localhost:8080/",
          "height": 73
        }
      },
      "source": [
        "uploaded = files.upload()"
      ],
      "execution_count": 0,
      "outputs": [
        {
          "output_type": "display_data",
          "data": {
            "text/html": [
              "\n",
              "     <input type=\"file\" id=\"files-e4c5b3d1-fb19-464b-b0ba-47cb988be0c4\" name=\"files[]\" multiple disabled />\n",
              "     <output id=\"result-e4c5b3d1-fb19-464b-b0ba-47cb988be0c4\">\n",
              "      Upload widget is only available when the cell has been executed in the\n",
              "      current browser session. Please rerun this cell to enable.\n",
              "      </output>\n",
              "      <script src=\"/nbextensions/google.colab/files.js\"></script> "
            ],
            "text/plain": [
              "<IPython.core.display.HTML object>"
            ]
          },
          "metadata": {
            "tags": []
          }
        },
        {
          "output_type": "stream",
          "text": [
            "Saving ferdosi.txt to ferdosi.txt\n"
          ],
          "name": "stdout"
        }
      ]
    },
    {
      "cell_type": "markdown",
      "metadata": {
        "id": "BjjuV4dSgV3S",
        "colab_type": "text"
      },
      "source": [
        "**Data(mesraa) preparation ** "
      ]
    },
    {
      "cell_type": "code",
      "metadata": {
        "id": "ff8ZJHipgPJ1",
        "colab_type": "code",
        "colab": {}
      },
      "source": [
        "#######################################Preparring data#################################################\n",
        "class data_preparation:\n",
        "    def __init__(self, path):\n",
        "        self.path = path\n",
        "        with open(path, encoding='utf-8') as f:\n",
        "            lines = f.readlines()\n",
        "            self.max_size  = 0\n",
        "            self.all_chars_set = { '_BOM_','_PAD_', '_EOM_'}\n",
        "            for line in lines:\n",
        "                line = line.rstrip('\\n')\n",
        "                [first_m , second_m] = line.split(',')\n",
        "                first_m = first_m.rstrip(' ').lstrip(' ')\n",
        "                second_m = second_m.rstrip(' ').lstrip(' ')\n",
        "                for c in first_m + second_m:\n",
        "                    self.all_chars_set.add(c)\n",
        "                self.max_size = max(self.max_size, len(first_m))\n",
        "                self.max_size = max(self.max_size, len(second_m))\n",
        "            self.all_chars_dic = {c : idx for idx, c in enumerate(self.all_chars_set)}\n",
        "            self.n_chars = len(self.all_chars_dic)\n",
        "            self.n_examples = len(lines)\n",
        "            self.max_size += 2\n",
        "    def get_data(self):\n",
        "        X = np.zeros((self.n_examples, self.max_size))\n",
        "        Y = np.zeros((self.n_examples, self.max_size))\n",
        "        with open(self.path, encoding='utf-8') as f:\n",
        "            lines = f.readlines()\n",
        "            for i, line in enumerate(lines):\n",
        "                line = line.rstrip('\\n')\n",
        "                [first_m , second_m] = line.split(',')\n",
        "                first_m = first_m.rstrip(' ').lstrip(' ')\n",
        "                second_m = second_m.rstrip(' ').lstrip(' ')\n",
        "                X[i, :] = self.line2tensor(first_m, True)\n",
        "                Y[i, :] = self.line2tensor(second_m, False)\n",
        "        return X, Y\n",
        "    def char2idx(self, c):\n",
        "        return self.all_chars_dic[c]\n",
        "\n",
        "    def idx2char(self, idx):\n",
        "        for k, v in self.all_chars_dic.items():\n",
        "            if v == idx:\n",
        "                return k\n",
        "        raise Exception('There is no', idx, ' in all_chars_dic')\n",
        "\n",
        "    def tensor2line(self, tensor, tags=True):\n",
        "        if tags:\n",
        "            return ''.join(self.idx2char(tensor[i]) for i in range(tensor.shape[0]))\n",
        "        else:\n",
        "            return ''.join(self.idx2char(tensor[i]) for i in range(tensor.shape[0])\n",
        "                            if self.idx2char(tensor[i]) not in ['_BOM_', '_EOM_', '_PAD_'])\n",
        "    # add _BOM_ at the begining of line and _EOM_ at the end of line and _PAD_ based on first_flag\n",
        "    def line2tensor(self, line, first_flag):\n",
        "        sz = self.max_size\n",
        "        tensor = np.zeros(sz)\n",
        "        # pad from begining if it's first mesraa\n",
        "        if first_flag:\n",
        "            for i in range(0, sz-len(line)-2):\n",
        "                tensor[i] = self.char2idx('_PAD_')\n",
        "            tensor[sz-len(line)-2]  = self.char2idx('_BOM_')\n",
        "            offset = sz - len(line) - 1\n",
        "            tensor[-1] = self.char2idx('_EOM_')\n",
        "        else:\n",
        "            tensor[0] = self.char2idx('_BOM_')\n",
        "            offset = 1\n",
        "        for i, c in enumerate(line):\n",
        "            tensor[i+offset] = self.char2idx(c)\n",
        "            idx = self.char2idx(c)\n",
        "        # pad at the end if it's second hemistich\n",
        "        if not first_flag:\n",
        "            tensor[len(line)+offset] = self.char2idx('_EOM_')\n",
        "            offset += 1\n",
        "            for i in range(len(line)+offset, sz):\n",
        "                tensor[i] = self.char2idx('_PAD_')\n",
        "        return tensor\n"
      ],
      "execution_count": 0,
      "outputs": []
    },
    {
      "cell_type": "markdown",
      "metadata": {
        "id": "Uh1IeWNbh_tX",
        "colab_type": "text"
      },
      "source": [
        "Model architecture(Sequence2Sequence with and without attention)"
      ]
    },
    {
      "cell_type": "code",
      "metadata": {
        "id": "cdDhMpq68ILV",
        "colab_type": "code",
        "colab": {}
      },
      "source": [
        "##########################Model architecture############################\n",
        "class Embedding:\n",
        "  def __init__(self, input_dim, embedding_dim):\n",
        "    with tf.variable_scope(\"Embedding\", reuse=tf.AUTO_REUSE):\n",
        "      self.word_embeddings = tf.get_variable(name='word_embedding', shape=[input_dim, embedding_dim], initializer=tf.random_uniform_initializer(-1, 1))\n",
        "\n",
        "  def __call__(self, input):\n",
        "    with tf.variable_scope(\"Embedding\", reuse=tf.AUTO_REUSE):\n",
        "      embedded = tf.nn.embedding_lookup(self.word_embeddings, input)\n",
        "      return embedded\n",
        "\n",
        "class encoder_RNN:\n",
        "  def __init__(self, input_dim, hidden_dim, n_layers):\n",
        "    with tf.variable_scope(\"encoder_RNN\", reuse=tf.AUTO_REUSE):\n",
        "      self.hidden_dim = hidden_dim\n",
        "      self.input_dim = input_dim\n",
        "      self.n_layers = n_layers\n",
        "\n",
        "      cells = [tf.nn.rnn_cell.LSTMCell(num_units=hidden_dim, use_peepholes=True, state_is_tuple=True) for n in range(n_layers)]\n",
        "      self.lstm = tf.contrib.rnn.MultiRNNCell(cells)\n",
        "\n",
        "  def __call__(self, input, hidden):\n",
        "    with tf.variable_scope(\"encoder_RNN\", reuse=tf.AUTO_REUSE):\n",
        "      output, hidden = tf.nn.dynamic_rnn(self.lstm, input, initial_state=hidden)\n",
        "      return output, hidden\n",
        "\n",
        "  def init_hidden(self, n_batches):\n",
        "    return self.lstm.zero_state(n_batches, dtype=tf.float32)\n",
        "\n",
        "class decoder_RNN:\n",
        "  def __init__(self, input_dim, hidden_dim, output_dim, n_layers):\n",
        "    with tf.variable_scope(\"decoder_RNN\", reuse=tf.AUTO_REUSE):\n",
        "      self.input_dim = input_dim\n",
        "      self.hidden_dim = hidden_dim\n",
        "      self.output_dim = output_dim\n",
        "      self.n_layers = n_layers\n",
        "      cells = [tf.nn.rnn_cell.LSTMCell(num_units=hidden_dim, use_peepholes=True, state_is_tuple=True) for n in range(n_layers)]\n",
        "      self.lstm = tf.contrib.rnn.MultiRNNCell(cells)\n",
        "      self.W = tf.get_variable('W', shape=[hidden_dim, output_dim], initializer=tf.contrib.layers.xavier_initializer())\n",
        "      self.b = tf.get_variable('b', shape=[output_dim], initializer=tf.zeros_initializer())\n",
        "  def __call__(self, input, hidden):\n",
        "    with tf.variable_scope(\"decoder_RNN\", reuse=tf.AUTO_REUSE):\n",
        "      output, hidden = self.lstm(input, hidden)\n",
        "      output = tf.tensordot(output, self.W, axes=1) + self.b\n",
        "      return output, hidden\n",
        "class Attn_decoder_RNN:\n",
        "  def __init__(self, input_dim, hidden_dim, output_dim, n_layers):\n",
        "    with tf.variable_scope(\"Attention_decoder_RNN\", reuse=tf.AUTO_REUSE):\n",
        "      self.input_dim = input_dim\n",
        "      self.hidden_dim = hidden_dim\n",
        "      self.output_dim = output_dim\n",
        "      self.n_layers = n_layers\n",
        "      cells = [tf.nn.rnn_cell.LSTMCell(num_units=hidden_dim, use_peepholes=True, state_is_tuple=True) for n in range(n_layers)]\n",
        "      self.lstm = tf.contrib.rnn.MultiRNNCell(cells)\n",
        "      self.W = tf.get_variable('W', shape=[hidden_dim, output_dim], initializer=tf.contrib.layers.xavier_initializer())\n",
        "      self.b = tf.get_variable('b', shape=[output_dim], initializer=tf.zeros_initializer())\n",
        "  def __call__(self, input, hidden):\n",
        "    with tf.variable_scope(\"Attention_decoder_RNN\", reuse=tf.AUTO_REUSE):\n",
        "      output, hidden = self.attn_cell(input, hidden)\n",
        "      output = tf.tensordot(output, self.W, axes=1) + self.b\n",
        "      return output, hidden\n",
        "  def init_hidden(self, batch_dim, hidden):\n",
        "    return self.attn_cell.get_initial_state(hidden.h, batch_dim, dtype=tf.float32)\n",
        "  def set_memory(self, memory):\n",
        "    with tf.variable_scope(\"Attention_decoder_RNN\", reuse=tf.AUTO_REUSE):\n",
        "      self.attn = tf.contrib.seq2seq.BahdanauAttention(num_units=self.hidden_dim, memory=memory)\n",
        "      self.attn_cell = tf.contrib.seq2seq.AttentionWrapper(self.lstm, self.attn, alignment_history=True)\n",
        "class Seq2SeqModel:\n",
        "  def __init__(self, encoder, decoder, embedding, max_len, begin_char):\n",
        "    with tf.variable_scope(\"Seq2Seq\", reuse=tf.AUTO_REUSE):\n",
        "      self.encoder = encoder\n",
        "      self.decoder = decoder\n",
        "      self.embedding = embedding\n",
        "      attention = (type(decoder) == Attn_decoder_RNN)\n",
        "      self.input_data = tf.placeholder(shape=[None, max_len], dtype=tf.int64)\n",
        "      self.target_data = tf.placeholder(shape=[None, max_len], dtype=tf.int64)\n",
        "      self.teacher_forcing = tf.placeholder(tf.float32, [])\n",
        "      self.learning_rate = tf.placeholder(tf.float32, [])\n",
        "      output_dim = self.decoder.output_dim\n",
        "      batch_dim = tf.shape(self.input_data)[0]\n",
        "      enc_embbeded_input = self.embedding(self.input_data)\n",
        "      enc_output, enc_hidden = self.encoder(enc_embbeded_input, self.encoder.init_hidden(batch_dim))\n",
        "      dec_hidden = enc_hidden\n",
        "      dec_input = tf.tile([begin_char], tf.shape(self.input_data)[0:1])\n",
        "      dec_input = tf.dtypes.cast(dec_input, tf.int64)\n",
        "      prediction = [dec_input]\n",
        "      self.loss = 0\n",
        "      if attention:\n",
        "        self.decoder.set_memory(enc_output)\n",
        "        dec_hidden = self.decoder.init_hidden(batch_dim, dec_hidden[-1])\n",
        "      for t in range(1, max_len):\n",
        "        dec_embedded_input = self.embedding(dec_input)\n",
        "        dec_output, dec_hidden = self.decoder(dec_embedded_input, dec_hidden)\n",
        "        self.loss += tf.reduce_mean(tf.nn.softmax_cross_entropy_with_logits_v2(\n",
        "                      labels=tf.one_hot(self.target_data[:, t], depth=output_dim, dtype=tf.float32),\n",
        "                      logits=dec_output))\n",
        "        next_char = tf.argmax(dec_output, axis=1)\n",
        "        prediction.append(next_char)\n",
        "        teacher_forcing = tf.cond(random.random() < self.teacher_forcing, lambda: True, lambda: False)\n",
        "        dec_input = tf.cond(teacher_forcing, lambda: self.target_data[:, t], lambda: next_char)\n",
        "      if attention:\n",
        "        self.attn_weights = dec_hidden.alignment_history.stack()\n",
        "      self.prediction = tf.transpose(tf.convert_to_tensor(prediction))\n",
        "      self.loss /= max_len\n",
        "      optimizer = tf.train.AdamOptimizer(self.learning_rate)\n",
        "      self.opt = optimizer.minimize(self.loss)\n"
      ],
      "execution_count": 0,
      "outputs": []
    },
    {
      "cell_type": "code",
      "metadata": {
        "id": "Owg9tNx78IR2",
        "colab_type": "code",
        "colab": {}
      },
      "source": [
        "loader = data_preparation('ferdosi.txt')\n",
        "(X, Y) = loader.get_data()\n",
        "idx = np.random.permutation(X.shape[0])\n",
        "X, Y = X[idx, :], Y[idx, :]\n",
        "test_r = 0.1\n",
        "val_r = 0.1\n",
        "ind1 = int(X.shape[0] * (1-test_r-val_r))\n",
        "ind2 = int(X.shape[0] * (1-test_r))\n",
        "X_train, Y_train = X[:ind1, :], Y[:ind1, :]\n",
        "X_valid, Y_valid = X[ind1:ind2, :], Y[ind1:ind2, :]\n",
        "X_test, Y_test = X[ind2:, :], Y[ind2:, :]\n",
        "data = {'X_train':X_train, 'Y_train':Y_train,\n",
        "        'X_valid':X_valid, 'Y_valid':Y_valid,\n",
        "        'X_test':X_test, 'Y_test':Y_test}\n",
        "params={'batch_size' : 256,'epochs' : 100,'vocabulary_size' : loader.n_chars,'MAX_LEN' : loader.max_size,'EMBEDDING_dim' : 32,'hidden_size' : 256,'the number of layers' : 2,'BEGIN_CHAR' : loader.all_chars_dic['_BOM_'],'learning_rate' : 1e-3,'learning_rate_decay' : 1,'learning_rate_decay_step' : 20,'learning_rate_min': 1e-5,'eps' : 1,'eps_dec' : 0.95,'eps_dec_step' : 30,'eps_thr' : .8}\n",
        "\n"
      ],
      "execution_count": 0,
      "outputs": []
    },
    {
      "cell_type": "code",
      "metadata": {
        "id": "AvV7Rhnd9C0i",
        "colab_type": "code",
        "colab": {}
      },
      "source": [
        "def train(model, data, params, print_every=10):\n",
        "  sess = tf.Session()\n",
        "  sess.run(tf.global_variables_initializer())\n",
        "\n",
        "  num_of_batches = np.ceil(data['X_train'].shape[0] / params['batch_size'])\n",
        "  \n",
        "  loss_history = []\n",
        "  \n",
        "  for epoch in range(1, params['epochs']+1):\n",
        "      epoch_loss = 0\n",
        "      if epoch % params['learning_rate_decay_step'] == 0: params['learning_rate'] *= params['learning_rate_decay']\n",
        "      if epoch % params['eps_dec_step'] == 0: params['eps'] = max(params['eps_thr'], params['eps'] * params['eps_dec'])\n",
        "        \n",
        "      for i in range(0, data['X_train'].shape[0],  params['batch_size']):\n",
        "        X_b = data['X_train'][i:i+params['batch_size']]\n",
        "        Y_b = data['Y_train'][i:i+params['batch_size']]\n",
        "\n",
        "        _, loss = sess.run([model.opt, model.loss], feed_dict={model.input_data: X_b, \n",
        "                                                               model.target_data: Y_b,\n",
        "                                                               model.learning_rate: params['learning_rate'],\n",
        "                                                               model.teacher_forcing: params['eps']})\n",
        "        epoch_loss += loss / num_of_batches\n",
        "      loss_history.append(epoch_loss)\n",
        "      if epoch % print_every == 0:\n",
        "        print(\"epoch {}, Loss:{}\".format(epoch, epoch_loss))\n",
        "        idx = np.random.randint(0, data['X_valid'].shape[0])\n",
        "        pred = sess.run(model.prediction, feed_dict={model.input_data: data['X_valid'][idx].reshape(1, -1),\n",
        "                                                     model.target_data: data['Y_valid'][idx].reshape(1, -1),\n",
        "                                                     model.teacher_forcing: 0})[0]\n",
        "        print('completed(predicted) poem from validation set:')\n",
        "        print((loader.tensor2line(data['X_valid'][idx], False) + \"  ****  \" + loader.tensor2line(pred, False)))\n",
        "        print(150*'-')\n",
        "  return sess, loss_history"
      ],
      "execution_count": 0,
      "outputs": []
    },
    {
      "cell_type": "code",
      "metadata": {
        "id": "SMFl7Kke9C3r",
        "colab_type": "code",
        "outputId": "b3b20738-2476-4860-c6ba-d0e67099d3a4",
        "colab": {
          "base_uri": "https://localhost:8080/",
          "height": 977
        }
      },
      "source": [
        "tf.reset_default_graph()\n",
        "embedding = Embedding(params['vocabulary_size'], params['EMBEDDING_dim'])\n",
        "encoder = encoder_RNN(params['vocabulary_size'], params['hidden_size'], params['the number of layers'])\n",
        "decoder = decoder_RNN(params['vocabulary_size'], params['hidden_size'], params['vocabulary_size'], params['the number of layers'])\n",
        "model  = Seq2SeqModel(encoder, decoder, embedding, params['MAX_LEN'], params['BEGIN_CHAR'])\n",
        "model_sess, loss_history = train(model, data, params.copy())\n",
        "test_loss = model_sess.run(model.loss, feed_dict={model.input_data: data['X_test'], model.target_data: data['Y_test'],model.teacher_forcing: 0})\n",
        "print('Test Loss:', test_loss)\n",
        "plt.plot(range(1, params['epochs']+1), loss_history, '-b.',label='epoch loss')\n",
        "plt.legend()\n",
        "plt.show()"
      ],
      "execution_count": 0,
      "outputs": [
        {
          "output_type": "stream",
          "text": [
            "epoch 10, Loss:0.9912832929537847\n",
            "completed(predicted) poem from validation set:\n",
            "خردمند چون روی گشتاسپ دید  ****  به نزدیک این را بدین افرید\n",
            "------------------------------------------------------------------------------------------------------------------------------------------------------\n",
            "epoch 20, Loss:0.8276944907429893\n",
            "completed(predicted) poem from validation set:\n",
            "سر تخم ساسانیان بود شاه  ****  که این را نبودی به نزدیک شاه\n",
            "------------------------------------------------------------------------------------------------------------------------------------------------------\n",
            "epoch 30, Loss:0.9211508917311825\n",
            "completed(predicted) poem from validation set:\n",
            "سپیدی مویش بزیبد همی  ****  زر از درد و بر دشت از اندکی\n",
            "------------------------------------------------------------------------------------------------------------------------------------------------------\n",
            "epoch 40, Loss:0.7616484087342635\n",
            "completed(predicted) poem from validation set:\n",
            "توی پشت ایران و تاج سران  ****  ز دیتی به کردار دار ان سران\n",
            "------------------------------------------------------------------------------------------------------------------------------------------------------\n",
            "epoch 50, Loss:0.6853922775182395\n",
            "completed(predicted) poem from validation set:\n",
            "همی چوب زد بر سرش ساروان  ****  بد ان نامور شاه روشن روان\n",
            "------------------------------------------------------------------------------------------------------------------------------------------------------\n",
            "epoch 60, Loss:0.601227547961454\n",
            "completed(predicted) poem from validation set:\n",
            "همی بود خسرو بران مرغزار  ****  همی کرد باید بدو داستار\n",
            "------------------------------------------------------------------------------------------------------------------------------------------------------\n",
            "epoch 70, Loss:0.5422152678709096\n",
            "completed(predicted) poem from validation set:\n",
            "تو گفتی ز مستی کنون خاستست  ****  دل و بوم و بر جان نشستتتتتت\n",
            "------------------------------------------------------------------------------------------------------------------------------------------------------\n",
            "epoch 80, Loss:0.5034313178382431\n",
            "completed(predicted) poem from validation set:\n",
            "ستودان نیابیم یک تن نه گور  ****  برو دار با گنج و با گوپور\n",
            "------------------------------------------------------------------------------------------------------------------------------------------------------\n",
            "epoch 90, Loss:0.9277109522133682\n",
            "completed(predicted) poem from validation set:\n",
            "نشستند با رای زن بخردان  ****  همان جز بزرگان روشن روان\n",
            "------------------------------------------------------------------------------------------------------------------------------------------------------\n",
            "epoch 100, Loss:0.5984546886577917\n",
            "completed(predicted) poem from validation set:\n",
            "همی کرد پدرود ان تخت عاج  ****  به در باد بر درد و برکست تاج\n",
            "------------------------------------------------------------------------------------------------------------------------------------------------------\n",
            "Test Loss: 5.5738397\n"
          ],
          "name": "stdout"
        },
        {
          "output_type": "display_data",
          "data": {
            "image/png": "[encoded data removed]",
            "text/plain": [
              "<Figure size 432x288 with 1 Axes>"
            ]
          },
          "metadata": {
            "tags": []
          }
        }
      ]
    },
    {
      "cell_type": "markdown",
      "metadata": {
        "id": "dUikaJYlTRbH",
        "colab_type": "text"
      },
      "source": [
        "Attention model"
      ]
    },
    {
      "cell_type": "code",
      "metadata": {
        "id": "5cjPIYIS9C6v",
        "colab_type": "code",
        "outputId": "f20c3bfe-0383-4acb-b866-da12bf1ba034",
        "colab": {
          "base_uri": "https://localhost:8080/",
          "height": 977
        }
      },
      "source": [
        "tf.reset_default_graph()\n",
        "embedding = Embedding(params['vocabulary_size'], params['EMBEDDING_dim'])\n",
        "encoder = encoder_RNN(params['vocabulary_size'], params['hidden_size'], params['the number of layers'])\n",
        "attn_decoder = Attn_decoder_RNN(params['vocabulary_size'], params['hidden_size'], params['vocabulary_size'], params['the number of layers'])\n",
        "attn_model  = Seq2SeqModel(encoder, attn_decoder, embedding, params['MAX_LEN'], params['BEGIN_CHAR'])\n",
        "attn_model_sess, loss_history = train(attn_model, data, params.copy())\n",
        "test_loss = attn_model_sess.run(attn_model.loss, feed_dict={attn_model.input_data: data['X_test'], attn_model.target_data: data['Y_test'],attn_model.teacher_forcing: 0})\n",
        "print('Test Loss:', test_loss)\n",
        "plt.plot(range(1, params['epochs']+1), loss_history, '-b.',label='epoch loss')\n",
        "plt.legend()\n",
        "plt.show()"
      ],
      "execution_count": 0,
      "outputs": [
        {
          "output_type": "stream",
          "text": [
            "epoch 10, Loss:1.215521026116151\n",
            "completed(predicted) poem from validation set:\n",
            "که پشت همه شهر توران بدوست  ****  بران بر بران بر براند اوری\n",
            "------------------------------------------------------------------------------------------------------------------------------------------------------\n",
            "epoch 20, Loss:0.996352766186763\n",
            "completed(predicted) poem from validation set:\n",
            "تهمتن چو بشنید گفتار اوی  ****  به بالای او راه بر باد کرد\n",
            "------------------------------------------------------------------------------------------------------------------------------------------------------\n",
            "epoch 30, Loss:0.9759732563144121\n",
            "completed(predicted) poem from validation set:\n",
            "نه شبرنگ با من نه رهوار بور  ****  به باره بران روز بر بر و روز\n",
            "------------------------------------------------------------------------------------------------------------------------------------------------------\n",
            "epoch 40, Loss:0.8668158988539987\n",
            "completed(predicted) poem from validation set:\n",
            "دو خونی همان با سپاهی گران  ****  به باره براید ز تن بر گرند\n",
            "------------------------------------------------------------------------------------------------------------------------------------------------------\n",
            "epoch 50, Loss:0.8104319420571512\n",
            "completed(predicted) poem from validation set:\n",
            "نیا شیر جنگی پدر گیو گرد  ****  به خوبی همی راو بر کوه سرد\n",
            "------------------------------------------------------------------------------------------------------------------------------------------------------\n",
            "epoch 60, Loss:0.8694488055621964\n",
            "completed(predicted) poem from validation set:\n",
            "برانگیخت کاموس اسپ نبرد  ****  به خوبی برو اندر اورده گرد\n",
            "------------------------------------------------------------------------------------------------------------------------------------------------------\n",
            "epoch 70, Loss:0.7603707194137267\n",
            "completed(predicted) poem from validation set:\n",
            "توانگر شوی گر تو درویش را  ****  به گفتار بر شهریار من را\n",
            "------------------------------------------------------------------------------------------------------------------------------------------------------\n",
            "epoch 80, Loss:0.7386398780135776\n",
            "completed(predicted) poem from validation set:\n",
            "ببرد اهرمن گیو را دل ز جای  ****  به پیش سپاه اندر امد ز پای\n",
            "------------------------------------------------------------------------------------------------------------------------------------------------------\n",
            "epoch 90, Loss:0.6949895201489709\n",
            "completed(predicted) poem from validation set:\n",
            "همان نیز خاتون به کاخ اندورن  ****  که از رنم شیران شوم بر نگن\n",
            "------------------------------------------------------------------------------------------------------------------------------------------------------\n",
            "epoch 100, Loss:0.6536529149430302\n",
            "completed(predicted) poem from validation set:\n",
            "ز کین پدر زار و گریان بدم  ****  بران است ازاد برزین دمم\n",
            "------------------------------------------------------------------------------------------------------------------------------------------------------\n",
            "Test Loss: 5.757934\n"
          ],
          "name": "stdout"
        },
        {
          "output_type": "display_data",
          "data": {
            "image/png": "[encoded data removed]",
            "text/plain": [
              "<Figure size 432x288 with 1 Axes>"
            ]
          },
          "metadata": {
            "tags": []
          }
        }
      ]
    },
    {
      "cell_type": "markdown",
      "metadata": {
        "id": "FwuKyG7rkAq2",
        "colab_type": "text"
      },
      "source": [
        "Predicting second mesraaa by attention and without that"
      ]
    },
    {
      "cell_type": "code",
      "metadata": {
        "id": "E7yyqWA19DAM",
        "colab_type": "code",
        "outputId": "b9024d31-0b89-4afe-dae7-064a0c1ad7e8",
        "colab": {
          "base_uri": "https://localhost:8080/",
          "height": 1000
        }
      },
      "source": [
        "for i in range(10):\n",
        "  idx = np.random.randint(0, data['X_test'].shape[0])\n",
        "  pred = model_sess.run(model.prediction, feed_dict={model.input_data: data['X_test'][idx].reshape(1, -1),model.target_data: data['Y_test'][idx].reshape(1, -1),model.teacher_forcing: 0})\n",
        "  attn_pred, weights = attn_model_sess.run([attn_model.prediction, attn_model.attn_weights], feed_dict={attn_model.input_data: data['X_test'][idx].reshape(1, -1),attn_model.target_data: data['Y_test'][idx].reshape(1, -1),attn_model.teacher_forcing: 0})\n",
        "  first_m = loader.tensor2line(data['X_test'][idx], False)\n",
        "  second_m_true = loader.tensor2line(data['Y_test'][idx], False)\n",
        "  second_m_1 = loader.tensor2line(pred[0], False)\n",
        "  second_m_2 = loader.tensor2line(attn_pred[0], False)\n",
        "  print('Test input:',i)\n",
        "  print(first_m + \"  ****  \" + second_m_true)\n",
        "  print('Seq2Seq output:')\n",
        "  print(second_m_1)\n",
        "  print('Seq2Seq with attention output:')\n",
        "  print(second_m_2)"
      ],
      "execution_count": 0,
      "outputs": [
        {
          "output_type": "stream",
          "text": [
            "Test input: 0\n",
            "چنین داد پاسخ که گر شهریار  ****  براندیشد از کار اسفندیار\n",
            "Seq2Seq output:\n",
            "به این نامداران رومی مدار\n",
            "Seq2Seq with attention output:\n",
            "بران نامور بخرگاه اندرار\n",
            "Test input: 1\n",
            "ز فرهاد و گیوت برارم بجاه  ****  بگنج و سپاه و بتخت و کلاه\n",
            "Seq2Seq output:\n",
            "بران را به ایران نیاین به راه\n",
            "Seq2Seq with attention output:\n",
            "برفتند با او به ایوان شاه\n",
            "Test input: 2\n",
            "همان تیغ هندی و رومی هزار  ****  بفرمود با جوشن کارزار\n",
            "Seq2Seq output:\n",
            "سرامد برو رنجه شیرخور\n",
            "Seq2Seq with attention output:\n",
            "بران نامور تخت شاهی نگار\n",
            "Test input: 3\n",
            "به خسرو چنین گفت کای سرفراز  ****  نگه کن بدان بنده دیوساز\n",
            "Seq2Seq output:\n",
            "به چنگ اندرون گرز و گردش نیاز\n",
            "Seq2Seq with attention output:\n",
            "بران بر نشینم مرا رهنماز\n",
            "Test input: 4\n",
            "چو هم پشت باشید با همرهان  ****  یکی کوه کندن ز بن بر توان\n",
            "Seq2Seq output:\n",
            "بب شید و بر ماه پیر مهان\n",
            "Seq2Seq with attention output:\n",
            "بران شار بر تخت بر شاهان\n",
            "Test input: 5\n",
            "چو دو ابگیرش پر از خون دو چشم  ****  مرا دید غرید و امد به خشم\n",
            "Seq2Seq output:\n",
            "بکی اتش از بر یکی گرد نشم\n",
            "Seq2Seq with attention output:\n",
            "برو پشت پیلان مگیرادگش\n",
            "Test input: 6\n",
            "ولیکن به گیتی بجز تاج و تخت  ****  چه جوید خردمند بیدار بخت\n",
            "Seq2Seq output:\n",
            "برو با ترا نیز بر زر به بخت\n",
            "Seq2Seq with attention output:\n",
            "بران گو از اور به بی رنج بخت\n",
            "Test input: 7\n",
            "زبان راندن و دیده بی اب شرم  ****  گزیدن خروش اندر اواز نرم\n",
            "Seq2Seq output:\n",
            "که گردون برارد مرا پیش گرم\n",
            "Seq2Seq with attention output:\n",
            "برانگیزم از را دو اندیشه گم\n",
            "Test input: 8\n",
            "بدو هفته از رومیان سی هزار  ****  گرفتند و امد بر شهریار\n",
            "Seq2Seq output:\n",
            "گری از تن خویشتن بی گران\n",
            "Seq2Seq with attention output:\n",
            "برانگیزگرفتند بر گوش و زار\n",
            "Test input: 9\n",
            "ز گفتار او شاد شد شاه هند  ****  بیاراست ایوان به چینی پرند\n",
            "Seq2Seq output:\n",
            "بدان تا نباشد به دشت نژرد\n",
            "Seq2Seq with attention output:\n",
            "بران نامور بارگاه امدند\n"
          ],
          "name": "stdout"
        }
      ]
    },
    {
      "cell_type": "code",
      "metadata": {
        "id": "TtPtNUn19DDH",
        "colab_type": "code",
        "colab": {}
      },
      "source": [
        ""
      ],
      "execution_count": 0,
      "outputs": []
    }
  ]
}